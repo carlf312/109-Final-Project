{
 "cells": [
  {
   "cell_type": "markdown",
   "metadata": {},
   "source": [
    "# Project Overview"
   ]
  },
  {
   "cell_type": "markdown",
   "metadata": {},
   "source": [
    "In order to conduct our exploration, analysis and prediction of crime in Boston we split up our project into two broad categories:\n",
    "\n",
    "The first part of our project is our Static Analysis. This part of our project consists of an exploratory study of crime in Boston and an analysis of which static factors (i.e. factors that do not change on an hourly or daily basis) are most likely to lead to a more crime-prone area. \n",
    "\n",
    "We begin this component with our Static Data Processing, which we start by pulling Boston’s Public Datasets on Crime Incident Reports from July 2012 to August 2015 and proceed to clean, post-process and quantify the data. This process yields 250,000 reported incidences. We then also pull various static variables that we believe may be correlated to the number and severity of crimes that occur in each of these locations, including their average property value, amount of liquor stores, and quantity of streetlights. \n",
    "\n",
    "Once we have our data cleaned and visualized we can move on to our Static Modeling. In this part we try to predict a danger index, which we calculate as being the sum of the number of crimes and their severities in an area, of a particular location based on the static variables described in previous section. We try several different classifiers here and use the best one as our predicted danger rating for every location in our dataset.\n",
    "\n",
    "The second part of our project is our Dynamic Analysis. This part of the project consists of predicting when and where a crime will occur by using dynamic factors variables that change frequently over time such as weather, time of day, economic indicators, and school closings) to determine if a crime will occur or not in a given location at a given time. We then use the accuracy of our predictions and a probability of success at stopping a predicted crime to estimate an estimated positive economic impact on Boston. \n",
    "\n",
    "This part of our project starts with our Dynamic Data Processing. This involves\n",
    "pulling dynamic data factors that we think might help us determine if a crime will occur at a given location and time such as: temperature, visibility, humidity, precipitation, time of day, day of the week, unemployment rate, and whether it’s a public holiday or weekend. We pull this data from various APIs, public and paid data sources and proceed onwards.\n",
    "\n",
    "Our project then proceeds to our Dynamic Model. In this part, we train several different models such as SVMs, Linear and Logistic Regression, Naive Bayes and Random Forest to try to predict if a crime occurs at a location and time. We optimize our learners and then use our predictions and the economic costs of crimes in our datasets to get a measure of the positive economic impact our predictions could have potentially had on Boston if they were acted on. \n",
    "\n",
    "We hope you enjoy the results of our work as much as we enjoyed working on it. "
   ]
  },
  {
   "cell_type": "markdown",
   "metadata": {},
   "source": [
    "# Initial Questions"
   ]
  },
  {
   "cell_type": "markdown",
   "metadata": {},
   "source": [
    "Before we began working, there were a few guiding questions that defined the directions we wanted to start looking into.\n",
    "1. Which publicly available factors are most related to crime and most influential over our predictions?\n",
    "2. Where and when in Boston does the most crime occur?\n",
    "3. How accurately can we predict crime, and how much could these predictions potentially benefit society?\n",
    "\n"
   ]
  },
  {
   "cell_type": "markdown",
   "metadata": {},
   "source": [
    "# Motivation"
   ]
  },
  {
   "cell_type": "markdown",
   "metadata": {},
   "source": [
    "To date, “Big Data” and Data Analysis have helped corporations become more cost-effective and politicians reach voters in smarter ways. Unfortunately, despite the ubiquity of publicly available data, there haven’t been large-scale or successful attempts at helping Law Enforcement police the streets streets more effectively. Attempts that have been made made have often been on expensive platforms that are not readily accessible to the general public.\n",
    "\n",
    "In this project, we seek to build out data analytics models for Law Enforcement that can effectively demonstrate the power of data analysis. We hope that our findings will not only encourage more work on the use of data science in Law Enforcement but also help to keep our streets safe."
   ]
  },
  {
   "cell_type": "markdown",
   "metadata": {},
   "source": [
    "#Related Work"
   ]
  },
  {
   "cell_type": "markdown",
   "metadata": {},
   "source": [
    "There have been several academic studies of crime conducted by Public Agencies such as the FBI and National Institute of Health 1 and studies by private organizations on the economic cost to society of such activities 2. In addition, a few companies have set out to create Crime Analytics Platforms 3 but most of their work tends to be proprietary. Our project seeks to build off some of this existing knowledge surrounding crime and most importantly, apply it to benefit Boston society. \n",
    "\n",
    "1. http://www.ncbi.nlm.nih.gov/pmc/articles/PMC2835847/\n",
    "2. http://www.drugandalcoholdependence.com/article/S0376-8716(09)00422-0/abstract\n",
    "3. http://www.fastcompany.com/3051578/elasticity/hitachi-says-it-can-predict-crimes-before-they-happen\n"
   ]
  },
  {
   "cell_type": "markdown",
   "metadata": {},
   "source": [
    "# Table of Contents"
   ]
  },
  {
   "cell_type": "markdown",
   "metadata": {},
   "source": [
    "###(1) Static Data:\n",
    "\n",
    "[Static Data Notebook](Static Data.ipynb)\n",
    "\n",
    "###(2) Static Model:\n",
    "\n",
    "[Static Model Notebook](Static Model.ipynb)\n",
    "\n",
    "###(3) Dynamic Data:\n",
    "\n",
    "[Dynamic Data Notebook](Dynamic Data.ipynb)\n",
    "\n",
    "###(4) Dynamic Model:\n",
    "\n",
    "[Dynamic Model Notebook](Dynamic Model.ipynb)\n",
    "\n",
    "###(5) Video Presentation:\n",
    "\n",
    "[Youtube Link](https://youtu.be/fuPGHMCUyp4)\n",
    "\n",
    "###(6) Project Website:\n",
    "\n",
    "[Crimeless Wepage](http://carlf312.github.io/109-Final-Project/ \"Crimeless Homepage\")\n"
   ]
  }
 ],
 "metadata": {
  "kernelspec": {
   "display_name": "Python 2",
   "language": "python",
   "name": "python2"
  },
  "language_info": {
   "codemirror_mode": {
    "name": "ipython",
    "version": 2
   },
   "file_extension": ".py",
   "mimetype": "text/x-python",
   "name": "python",
   "nbconvert_exporter": "python",
   "pygments_lexer": "ipython2",
   "version": "2.7.10"
  }
 },
 "nbformat": 4,
 "nbformat_minor": 0
}
