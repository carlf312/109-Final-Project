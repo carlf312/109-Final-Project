{
 "cells": [
  {
   "cell_type": "markdown",
   "metadata": {},
   "source": [
    "# DYNAMIC MODEL NOTEBOOK"
   ]
  },
  {
   "cell_type": "markdown",
   "metadata": {},
   "source": [
    "<img src=\"batman.jpg\">"
   ]
  },
  {
   "cell_type": "markdown",
   "metadata": {},
   "source": [
    "This notebook seeks to do the dynamic modeling of our crime analysis. Specifically, the dynamic portion involves doing crime resolution on a time-adjusted basis by predicting when and where a crime will occur. Specifically, for a given location and a given time, we try to predict whether or not a crime will occur there at that moment. \n",
    "\n",
    "We begin by loading in the data into the appropriate formats, and then defining some functions for expected costs, accuracy etc. and then dive into our models. For our models, we try four different sets of models to determine if a crime is going to occur in a given lat, long at a given time. We see fairly great accuracy and savings here for a given set of classifiers and spend the bulk of our analysis here. To wrap up, we also try to tell how well these models do in predicting the number of crimes, and try to get more accurate numbers on how much money each crime prevented saves us based on the nature of the crimes at that instance. "
   ]
  },
  {
   "cell_type": "code",
   "execution_count": 431,
   "metadata": {
    "collapsed": false
   },
   "outputs": [],
   "source": [
    "%matplotlib inline\n",
    "from IPython.display import Image\n",
    "import csv\n",
    "import numpy as np\n",
    "import random\n",
    "import sklearn\n",
    "import pickle\n",
    "import sys\n",
    "import math\n",
    "import matplotlib.pyplot as plt"
   ]
  },
  {
   "cell_type": "markdown",
   "metadata": {},
   "source": [
    "Build a crime dictionary keyed by the Time, Latitude and Longitude and valued by whether or not a crime occurred during that time. Some of the key data we care about is when/where the crime occured and how severe the crime was (which we coded as the crime's \"score\")."
   ]
  },
  {
   "cell_type": "markdown",
   "metadata": {},
   "source": [
    "# Load in the Data and Define Necessary Functions"
   ]
  },
  {
   "cell_type": "markdown",
   "metadata": {},
   "source": [
    "The below will load in all the crime data into a dictionary crimeDictionary. This dictionary is keyed by (location, time) and valued by all the attributes of the crime. "
   ]
  },
  {
   "cell_type": "code",
   "execution_count": 2,
   "metadata": {
    "collapsed": false
   },
   "outputs": [],
   "source": [
    "# with open('JRcleaningcontinued.csv', 'rU') as csvfile:\n",
    "with open('crime_costs.csv', 'rU') as csvfile:\n",
    "    reader = csv.DictReader(csvfile)\n",
    "    crimeDictionary = {}\n",
    "    all_lat_longs = []\n",
    "    count = 0\n",
    "    for row in reader:\n",
    "        try:\n",
    "            loc = row['Location'].split(',')\n",
    "#             lat = float(loc[0][1:5])\n",
    "#             lon = float(loc[1][1:6])\n",
    "            \n",
    "            lat = round(float(loc[0][1:8]), 1)\n",
    "            lon = round(float(loc[1][1:9]), 1)\n",
    "            \n",
    "#             key = (float(row['EPOCH_TRUNC']), (float(row['LATITUDE'][:4]), float(row['LONGITUDE'][:5])))\n",
    "            key = (float(row['EPOCH_TRUNC']), (lat, lon))\n",
    "#             all_lat_longs.append((float(row['LATITUDE'][:4]), float(row['LONGITUDE'][:5])))\n",
    "            all_lat_longs.append((lat, lon))\n",
    "            if key in crimeDictionary:\n",
    "                crimeDictionary[key].append(row)\n",
    "            else:\n",
    "                crimeDictionary[key] = [row]\n",
    "        except:\n",
    "            print row['Location']\n",
    "            print loc\n",
    "            print lat\n",
    "            print lon\n",
    "    all_lat_longs = set(all_lat_longs)"
   ]
  },
  {
   "cell_type": "code",
   "execution_count": 3,
   "metadata": {
    "collapsed": false,
    "scrolled": false
   },
   "outputs": [
    {
     "name": "stdout",
     "output_type": "stream",
     "text": [
      "7\n"
     ]
    }
   ],
   "source": [
    "print len(all_lat_longs)"
   ]
  },
  {
   "cell_type": "markdown",
   "metadata": {},
   "source": [
    "Lets also take a quick look at how a single crime in the dictionary looks. "
   ]
  },
  {
   "cell_type": "code",
   "execution_count": 4,
   "metadata": {
    "collapsed": false
   },
   "outputs": [
    {
     "data": {
      "text/plain": [
       "{'COMPNOS': '120516219.0',\n",
       " 'COST': '50',\n",
       " 'DATETIME': '2012-08-19 09:09:00',\n",
       " 'DATETIME_TRUNC': '2012-08-19 09:00:00',\n",
       " 'DAY_WEEK': 'Sunday',\n",
       " 'DOMESTIC': 'No',\n",
       " 'EPOCH': '1345381740.0',\n",
       " 'EPOCH_TRUNC': '1345381200.0',\n",
       " 'FROMDATE': '08/19/2012 09:09:00 AM',\n",
       " 'INCIDENT_TYPE_DESCRIPTION': 'val',\n",
       " 'LATITUDE': '42.35162134',\n",
       " 'LONGITUDE': '-71.06872456',\n",
       " 'Location': '(42.35162134, -71.06872456)',\n",
       " 'MAIN_CRIMECODE': 'VAL',\n",
       " 'Month': '8',\n",
       " 'NatureCode': 'ILLPRK',\n",
       " 'REPORTINGAREA': '118',\n",
       " 'REPTDISTRICT': 'A1',\n",
       " 'SCORE': '1',\n",
       " 'SHIFT': 'Day',\n",
       " 'STREETNAME': 'PARK PLAZA',\n",
       " 'Shooting': 'No',\n",
       " 'UCRPART': 'Part Two',\n",
       " 'Unnamed: 0': '10503',\n",
       " 'WEAPONTYPE': 'Unarmed',\n",
       " 'X': '772743.942',\n",
       " 'XSTREETNAME': 'CHARLES ST S',\n",
       " 'Y': '2953454.502',\n",
       " 'Year': '2012'}"
      ]
     },
     "execution_count": 4,
     "metadata": {},
     "output_type": "execute_result"
    }
   ],
   "source": [
    "crimeDictionary[crimeDictionary.keys()[0]][0]"
   ]
  },
  {
   "cell_type": "markdown",
   "metadata": {},
   "source": [
    "Lets see how long the crime data goes for."
   ]
  },
  {
   "cell_type": "code",
   "execution_count": 5,
   "metadata": {
    "collapsed": false
   },
   "outputs": [
    {
     "name": "stdout",
     "output_type": "stream",
     "text": [
      "crime starts at date :  1341723600.0\n",
      "crime stops at date :  1439222400.0\n"
     ]
    }
   ],
   "source": [
    "crime_Dates = map(lambda x: x[0], crimeDictionary.keys())\n",
    "print \"crime starts at date : \", min(crime_Dates)\n",
    "print \"crime stops at date : \", max(crime_Dates)"
   ]
  },
  {
   "cell_type": "markdown",
   "metadata": {},
   "source": [
    "The start date is July 8 2012. \n",
    "The end date is 10 August 2015."
   ]
  },
  {
   "cell_type": "markdown",
   "metadata": {},
   "source": [
    "Now, we are going to load in all the weather data. In the next few parts, we will construct our weatherDictionary with the parameters clock (time of day), temperature, pressure, humidity, visibility, precipitation Intensity and probability."
   ]
  },
  {
   "cell_type": "code",
   "execution_count": 6,
   "metadata": {
    "collapsed": false
   },
   "outputs": [],
   "source": [
    "weatherFyle = open('JRcompleteweatherdata.pkl')\n",
    "weatherDF = pickle.load(weatherFyle)"
   ]
  },
  {
   "cell_type": "markdown",
   "metadata": {},
   "source": [
    "Get the following attributes for weather dictionary, keeping in mind:\n",
    "#minTime = 1341115200, July 2012 \n",
    "#maxTime = 1443495600, Sept 29, 2015 \n",
    "#Attributes: LATITUDE, LONGITUDE, time, temperature, pressure, humidity, visibility, precipIntensity, precipProbability"
   ]
  },
  {
   "cell_type": "code",
   "execution_count": 7,
   "metadata": {
    "collapsed": false
   },
   "outputs": [],
   "source": [
    "weatherDict = {}\n",
    "weatherLocations = []\n",
    "for x in weatherDF.iterrows():\n",
    "    key = (x[1]['time'], (float(x[1]['LATITUDE']), float(x[1]['LONGITUDE'])))\n",
    "    weather_loc = (x[1]['LATITUDE'], x[1]['LONGITUDE'])\n",
    "    if (x[1]['LATITUDE'], x[1]['LONGITUDE']) in all_lat_longs and (key[0] > 1341723600) and (key[0] < 1439222400.0) :\n",
    "        clock = str(x[1]['DATETIME_TRUNC'])\n",
    "        clock_lst = clock.split(\" \")\n",
    "        clock = float(clock_lst[1][0:2])\n",
    "        weatherDict[key] = {'clock': clock, 'temp': x[1]['temperature'], 'pressure': x[1]['pressure'], 'humidity': x[1]['humidity'], 'humidity': x[1]['visibility'], 'precipIntensity': x[1]['precipIntensity'], 'precipProbability': x[1]['precipProbability']}\n",
    "    weatherLocations.append(weather_loc)\n",
    "weatherLocations = set(weatherLocations)\n",
    "for x in all_lat_longs:\n",
    "    if x not in weatherLocations:\n",
    "        print x"
   ]
  },
  {
   "cell_type": "code",
   "execution_count": 8,
   "metadata": {
    "collapsed": false
   },
   "outputs": [
    {
     "data": {
      "text/plain": [
       "189574"
      ]
     },
     "execution_count": 8,
     "metadata": {},
     "output_type": "execute_result"
    }
   ],
   "source": [
    "len(weatherDict)"
   ]
  },
  {
   "cell_type": "code",
   "execution_count": 9,
   "metadata": {
    "collapsed": false
   },
   "outputs": [
    {
     "data": {
      "text/plain": [
       "{'clock': 12.0,\n",
       " 'humidity': 4.98,\n",
       " 'precipIntensity': 0.0471,\n",
       " 'precipProbability': 0.73,\n",
       " 'pressure': 1017.69,\n",
       " 'temp': 67.71}"
      ]
     },
     "execution_count": 9,
     "metadata": {},
     "output_type": "execute_result"
    }
   ],
   "source": [
    "weatherDict[weatherDict.keys()[0]]"
   ]
  },
  {
   "cell_type": "markdown",
   "metadata": {},
   "source": [
    "Now that we have the weather data loaded in as a weatherDictionary, we want to load in the data for Boston Holidays in the exact same format as our weatherDictionary. Specifically, for each hour and location in our data set, we want to code in the value 0 if there was school and work that day, code in the value 1 if there was no school but work that day (i.e. a snow day or summer break) and code in the value 2 if there was no school/work that day (i.e. a weekend)"
   ]
  },
  {
   "cell_type": "code",
   "execution_count": 10,
   "metadata": {
    "collapsed": false
   },
   "outputs": [],
   "source": [
    "schoolOffdict = {}\n",
    "with open('JRschooldayoff.csv', 'rU') as csvfile:\n",
    "    reader = csv.DictReader(csvfile)\n",
    "    min_date = 9999999999\n",
    "    max_date = None\n",
    "    for row in reader:\n",
    "        epoch = float(row['EPOCH'])\n",
    "        min_date = min(epoch, min_date)\n",
    "        max_date = max(epoch, max_date)\n",
    "        dayoff = int(row['DAYOFF'])\n",
    "        for latlong in all_lat_longs:\n",
    "            if epoch > 1341723600.0 and epoch < 1439222400.0:\n",
    "                schoolOffdict[(epoch, latlong)] = dayoff"
   ]
  },
  {
   "cell_type": "code",
   "execution_count": 11,
   "metadata": {
    "collapsed": false
   },
   "outputs": [
    {
     "name": "stdout",
     "output_type": "stream",
     "text": [
      "189553\n",
      "1341115200.0\n",
      "1443582000.0\n",
      "set([(42.2, -71.1), (42.4, -71.2), (42.4, -71.1), (42.4, -71.0), (42.3, -71.0), (42.3, -71.1), (42.3, -71.2)])\n"
     ]
    }
   ],
   "source": [
    "print len(schoolOffdict)\n",
    "print min_date\n",
    "print max_date\n",
    "print all_lat_longs"
   ]
  },
  {
   "cell_type": "markdown",
   "metadata": {},
   "source": [
    "Make sure that if we have some keys in our weather dictionary that aren't covered in our schoolOffDict, then we should just fill in that dictionary with some average value (in this case 0). This only happens around 20 times in 189,000+ samples."
   ]
  },
  {
   "cell_type": "code",
   "execution_count": 12,
   "metadata": {
    "collapsed": false
   },
   "outputs": [],
   "source": [
    "for k in weatherDict.keys():\n",
    "    counter = 1\n",
    "    if k not in schoolOffdict:\n",
    "        schoolOffdict[k] = 0"
   ]
  },
  {
   "cell_type": "markdown",
   "metadata": {},
   "source": [
    "Now, lets load in the unemployment data into our unemploymentDictionary. This uses the exact same pattern as we used in schoolDaysOff and is keyed and valued similarily (but with unemployment rate as a different). "
   ]
  },
  {
   "cell_type": "code",
   "execution_count": 13,
   "metadata": {
    "collapsed": true
   },
   "outputs": [],
   "source": [
    "unemploymentDict = {}\n",
    "with open('JRhourlyurate.csv', 'rU') as csvfile:\n",
    "    reader = csv.DictReader(csvfile)\n",
    "    min_date = 9999999999\n",
    "    max_date = None\n",
    "    for row in reader:\n",
    "        epoch = float(row['EPOCH'])\n",
    "        min_date = min(epoch, min_date)\n",
    "        max_date = max(epoch, max_date)\n",
    "        unemployment_rate = float(row['URATE'])\n",
    "        for latlong in all_lat_longs:\n",
    "            if epoch > 1341723600.0 and epoch < 1439222400.0:\n",
    "                unemploymentDict[(epoch, latlong)] = unemployment_rate"
   ]
  },
  {
   "cell_type": "code",
   "execution_count": 14,
   "metadata": {
    "collapsed": false
   },
   "outputs": [
    {
     "data": {
      "text/plain": [
       "189553"
      ]
     },
     "execution_count": 14,
     "metadata": {},
     "output_type": "execute_result"
    }
   ],
   "source": [
    "len(unemploymentDict)"
   ]
  },
  {
   "cell_type": "code",
   "execution_count": 15,
   "metadata": {
    "collapsed": true
   },
   "outputs": [],
   "source": [
    "for k in weatherDict.keys():\n",
    "    counter = 1\n",
    "    if k not in unemploymentDict:\n",
    "        unemploymentDict[k] = 5.2"
   ]
  },
  {
   "cell_type": "code",
   "execution_count": 16,
   "metadata": {
    "collapsed": false
   },
   "outputs": [
    {
     "data": {
      "text/plain": [
       "True"
      ]
     },
     "execution_count": 16,
     "metadata": {},
     "output_type": "execute_result"
    }
   ],
   "source": [
    "len(schoolOffdict) == len(unemploymentDict) == len(weatherDict)\n",
    "# inFile = open('schoolOffdict.pkl', 'rb')\n",
    "# schoolOffdict = pickle.load(inFile)"
   ]
  },
  {
   "cell_type": "markdown",
   "metadata": {},
   "source": [
    "Now, as a final step lets consider the our predicted 'danger' level of each location that comes out of our static model. "
   ]
  },
  {
   "cell_type": "code",
   "execution_count": 17,
   "metadata": {
    "collapsed": true
   },
   "outputs": [],
   "source": [
    "dangerFyle = open('dangerDict.pkl')\n",
    "dangerDict = pickle.load(dangerFyle)"
   ]
  },
  {
   "cell_type": "markdown",
   "metadata": {},
   "source": [
    "dangerDict uses latitude, longitude pairs that are up to 2 decimal places each. For the dynamic model, we want to just use 1 decimal place in lat, long so we take the average danger level of all the ratings in the relevant category."
   ]
  },
  {
   "cell_type": "code",
   "execution_count": 18,
   "metadata": {
    "collapsed": false
   },
   "outputs": [],
   "source": [
    "newDangerDict = {}\n",
    "for k in dangerDict:\n",
    "    lat, lon = k\n",
    "    lat = round(lat, 1)\n",
    "    lon = round(lon, 1)\n",
    "    if (lat, lon) in newDangerDict:\n",
    "        newDangerDict[(lat, lon)].append(dangerDict[k])\n",
    "    else:\n",
    "        newDangerDict[(lat, lon)] = [dangerDict[k]]\n",
    "\n",
    "for k in newDangerDict:\n",
    "    newDangerDict[k] = np.mean(newDangerDict[k])"
   ]
  },
  {
   "cell_type": "markdown",
   "metadata": {},
   "source": [
    "The below will calculate the PAYOUT costs. This includes the PAYOUT of a true positive, true negative and false positive and false negative of our predictions based on the cost of crime data we found online. We also use the fact that the median salary of police officers in the United States is 25 dollars an hour, and decide that we can try to prevent crimes by having 4 additional officer cars for an additional two hours in the locations we predict."
   ]
  },
  {
   "cell_type": "code",
   "execution_count": 209,
   "metadata": {
    "collapsed": false
   },
   "outputs": [
    {
     "name": "stdout",
     "output_type": "stream",
     "text": [
      "The Average Cost of Crime is :  652.173913043\n",
      "The Average Cost of Increased Policing is :  200\n"
     ]
    }
   ],
   "source": [
    "#Simplifying Assumption: Additional Cars will be able to prevent / reduce the cost by 50%.\n",
    "#This is made up by the fact that we severely underestimate the cost of crime to just be economic loss to victims.\n",
    "#http://www.ncbi.nlm.nih.gov/pmc/articles/PMC2835847/\n",
    "\n",
    "costOfCrimeNational = 15000000000.0\n",
    "numCrimesNational = 23000000.0\n",
    "avgCostOfCrime = costOfCrimeNational/numCrimesNational\n",
    "\n",
    "costOfPolicePatrol = 25\n",
    "numHours = 2\n",
    "numCars = 4\n",
    "costOfPolice = numCars*numHours*costOfPolicePatrol\n",
    "\n",
    "print \"The Average Cost of Crime is : \", avgCostOfCrime\n",
    "print \"The Average Cost of Increased Policing is : \", costOfPolice\n",
    "\n",
    "PAYOUT_OF_TRUE_POSITIVE = avgCostOfCrime\n",
    "PAYOUT_OF_TRUE_NEGATIVE = 0\n",
    "PAYOUT_OF_FALSE_POSITIVE = -costOfPolice\n",
    "\n",
    "#The following is a quick calculation that helps us best understand how to penalize false negatives:\n",
    "#Boston has 2000+ police officers, potentially working 8 hr shifts so < 700 active at a given time. \n",
    "#At any given time, we assume 25% of them are on patrol, so 175 patrol officers. Over 7 geographic lat longs,\n",
    "#we imagine at any given hour there are roughly ~25 officers patroling. We are re-placing 4 of them for two hours\n",
    "#to a different lat, long and since we predicted that this area wouldn't have crime (and it really did), we imagine\n",
    "#that we reduced the efficacy of the Boston Police Department to respond to that crime by (4*2)/25 so that times the\n",
    "#cost of the crime is our penalty.\n",
    "#Note, we could not have included a penalty here to avoid thinking about the opportunity costs of missed crimes and \n",
    "#gotten higher results, but we wanted to make sure our classifier penalized false negatives sufficiently. \n",
    "\n",
    "PAYOUT_OF_FALSE_NEGATIVE = -(float(4*2)/25)*avgCostOfCrime"
   ]
  },
  {
   "cell_type": "markdown",
   "metadata": {},
   "source": [
    "Build the X and Y matrices for our predictions. X are all attributes that include weather, and Y are the attributes that will be binary, 1 if a crime occurred and 0 if it did not.\n",
    "\n",
    "We also build a cost list here that will help us at the very end calculate the total cost of our savings. "
   ]
  },
  {
   "cell_type": "code",
   "execution_count": 354,
   "metadata": {
    "collapsed": false
   },
   "outputs": [],
   "source": [
    "X = []\n",
    "Y = []\n",
    "costsLst = []\n",
    "for k in weatherDict.keys():\n",
    "    if k in crimeDictionary:\n",
    "        Y.append(1)\n",
    "        costsLst.append((1, k))\n",
    "    else:\n",
    "        Y.append(0)\n",
    "        costsLst.append((0, k))\n",
    "    features = []\n",
    "    for item in weatherDict[k].keys():\n",
    "        features.append(weatherDict[k][item])\n",
    "    features.append(schoolOffdict[k])\n",
    "    features.append(unemploymentDict[k])\n",
    "    diffKey = k[1]\n",
    "    features.append(newDangerDict[diffKey])\n",
    "    X.append(features)"
   ]
  },
  {
   "cell_type": "markdown",
   "metadata": {},
   "source": [
    "Create our training and test sets pased on random partitions of the data. Our training set is approximately 80% of our total data and our test set is 20% of the total data:"
   ]
  },
  {
   "cell_type": "code",
   "execution_count": 355,
   "metadata": {
    "collapsed": false
   },
   "outputs": [],
   "source": [
    "random.seed(1)\n",
    "X_shuffled = sorted(X, key=lambda k: random.random())\n",
    "random.seed(1)\n",
    "Y_shuffled = sorted(Y, key=lambda k: random.random())\n",
    "random.seed(1)\n",
    "costsLstOrdered = sorted(costsLst, key=lambda k: random.random())\n",
    "X_train = X_shuffled[0:150000]\n",
    "Y_train = Y_shuffled[0:150000]\n",
    "X_test = X_shuffled[150000:]\n",
    "Y_test = Y_shuffled[150000:]\n",
    "costsTrain = costsLstOrdered[0:150000]\n",
    "costsTest = costsLstOrdered[150000:]"
   ]
  },
  {
   "cell_type": "markdown",
   "metadata": {},
   "source": [
    "The below function will calculate the true/false positive/negative matrix given a Prediction List and the corresponding correct values list."
   ]
  },
  {
   "cell_type": "code",
   "execution_count": 212,
   "metadata": {
    "collapsed": true
   },
   "outputs": [],
   "source": [
    "def getAccuracy(Preds, Y):\n",
    "    falsePositive = 0\n",
    "    falseNegative = 0\n",
    "    truePositive = 0\n",
    "    trueNegative = 0\n",
    "    for i in xrange(len(Preds)):\n",
    "        j = i\n",
    "        if Preds[i] == Y[j]:\n",
    "            if Preds[i] == 1:\n",
    "                truePositive += 1\n",
    "            elif Preds[i] == 0:\n",
    "                trueNegative += 1\n",
    "            else:\n",
    "                print Preds[i]\n",
    "        else:\n",
    "            if Preds[i] is 1:\n",
    "                falsePositive += 1\n",
    "            else:\n",
    "                falseNegative += 1\n",
    "#     print \"The True Positive Rate is : \", truePositive\n",
    "#     print \"The True Negative Rate is : \", trueNegative\n",
    "#     print \"The False Positive Rate is : \", falsePositive\n",
    "#     print \"The False Negative Rate is : \", falseNegative\n",
    "    return truePositive, trueNegative, falsePositive, falseNegative"
   ]
  },
  {
   "cell_type": "code",
   "execution_count": 213,
   "metadata": {
    "collapsed": false
   },
   "outputs": [],
   "source": [
    "def expectedCost(Y_preds, Y_true):\n",
    "    tp, tn, fp, fn = getAccuracy(Y_preds, Y_true)\n",
    "    #If there's a true positive, add the savings, subtract the cost of police, everything else is straightforward\n",
    "    payout = tp*PAYOUT_OF_TRUE_POSITIVE + tp*PAYOUT_OF_FALSE_POSITIVE + tn * PAYOUT_OF_TRUE_NEGATIVE + fp*PAYOUT_OF_FALSE_POSITIVE + fn*PAYOUT_OF_FALSE_NEGATIVE\n",
    "    return payout"
   ]
  },
  {
   "cell_type": "markdown",
   "metadata": {},
   "source": [
    "Define a function return the percentage of correct classifications given"
   ]
  },
  {
   "cell_type": "code",
   "execution_count": 214,
   "metadata": {
    "collapsed": true
   },
   "outputs": [],
   "source": [
    "def get_correct_percentage(tp, tn, fp, fn):\n",
    "    return float(tp + tn)/(tp + tn + fp + fn)"
   ]
  },
  {
   "cell_type": "markdown",
   "metadata": {},
   "source": [
    "Get the optimal savings: What would the cost be on our Test Set if you could predict every crime perfectly?"
   ]
  },
  {
   "cell_type": "code",
   "execution_count": 215,
   "metadata": {
    "collapsed": false
   },
   "outputs": [
    {
     "data": {
      "text/plain": [
       "4628904.347826341"
      ]
     },
     "execution_count": 215,
     "metadata": {},
     "output_type": "execute_result"
    }
   ],
   "source": [
    "optimalSavings = 0\n",
    "for i in Y_test:\n",
    "    optimalSavings += avgCostOfCrime*i + PAYOUT_OF_FALSE_POSITIVE*i\n",
    "optimalSavings"
   ]
  },
  {
   "cell_type": "code",
   "execution_count": 216,
   "metadata": {
    "collapsed": true
   },
   "outputs": [],
   "source": [
    "def thresholdPredictions(threshold, probs):\n",
    "    return map(lambda x: 1 if x[1] >= threshold else 0, probs)"
   ]
  },
  {
   "cell_type": "markdown",
   "metadata": {},
   "source": [
    "Ok now that we have our data loaded in and some helper functions defined, we will try to figure out which machine learning classifier is the __ best __ at predicting a binary response: YES OR NO, will a crime occur at a particular location at a particular time?"
   ]
  },
  {
   "cell_type": "markdown",
   "metadata": {},
   "source": [
    "# Predicting if Crime will Happen or Not"
   ]
  },
  {
   "cell_type": "markdown",
   "metadata": {},
   "source": [
    "Using the data we have from above, we will attempt to optimize 4 different machine learning algorithms to predict whether or not crime will happen at a location, time combination. However, as in a previous problem set, we are not necessairly interested in having the most accurate classifiers because \"no crime\" occurs far more often than \"crime\" (about 83% versus 17%). Instead, we are optimizing for expected cost. "
   ]
  },
  {
   "cell_type": "markdown",
   "metadata": {},
   "source": [
    "## Train our SVMs"
   ]
  },
  {
   "cell_type": "markdown",
   "metadata": {},
   "source": [
    "As we noted in our meeting with our TF, training requires an incredible amount of time that isn't feasible with our restarts and the number of other classifiers we seek to train. As we discussed in our meeting, there isn't a great workaround to this that is immediately available (especially since we need to do an even more computationally expensive things for our SVM later of converting our max-margin estimates to actual probabilities), so we only train on the first 10,000 elements of our training set rather than the entire thing.\n",
    "\n",
    "Fortunately, this still helps us form a basis for analysis on this project. "
   ]
  },
  {
   "cell_type": "code",
   "execution_count": 217,
   "metadata": {
    "collapsed": false
   },
   "outputs": [],
   "source": [
    "from sklearn import svm\n",
    "svmClf = svm.SVC(probability=True)\n",
    "#svmClf.fit(X_train, Y_train)"
   ]
  },
  {
   "cell_type": "markdown",
   "metadata": {},
   "source": [
    "The following set of functions optimizes the parameters of the SVM: "
   ]
  },
  {
   "cell_type": "code",
   "execution_count": 218,
   "metadata": {
    "collapsed": true
   },
   "outputs": [],
   "source": [
    "def optimize(clf, parameters, X, y, n_folds=5, score_func=None):\n",
    "    new_clf = sklearn.grid_search.GridSearchCV(clf, parameters, cv=n_folds, score_func=score_func)\n",
    "    new_clf.fit(X, y)\n",
    "    return new_clf.best_estimator_"
   ]
  },
  {
   "cell_type": "code",
   "execution_count": 219,
   "metadata": {
    "collapsed": true
   },
   "outputs": [],
   "source": [
    "from sklearn.metrics import confusion_matrix\n",
    "def classify(clf, parameters, X_train, Y_train, X_test, Y_test, score_func=None, n_folds=5): \n",
    "    if parameters:\n",
    "        clf = optimize(clf, parameters, X_train, Y_train, n_folds=n_folds, score_func=score_func)\n",
    "    clf=clf.fit(X_train, Y_train)\n",
    "    training_accuracy = clf.score(X_train, Y_train)\n",
    "    test_accuracy = clf.score(X_test, Y_test)\n",
    "    print \"############# based on standard predict ################\"\n",
    "    print \"Accuracy on training data: %0.2f\" % (training_accuracy)\n",
    "    print \"Accuracy on test data:     %0.2f\" % (test_accuracy)\n",
    "    print confusion_matrix(Y_test, clf.predict(X_test))\n",
    "    print \"########################################################\"\n",
    "    return clf"
   ]
  },
  {
   "cell_type": "code",
   "execution_count": 220,
   "metadata": {
    "collapsed": false
   },
   "outputs": [
    {
     "name": "stdout",
     "output_type": "stream",
     "text": [
      "############# based on standard predict ################\n",
      "Accuracy on training data: 0.91\n",
      "Accuracy on test data:     0.78\n",
      "[[26154  3183]\n",
      " [ 5702  4535]]\n",
      "########################################################\n"
     ]
    },
    {
     "data": {
      "text/plain": [
       "SVC(C=1, cache_size=200, class_weight=None, coef0=0.0, degree=3, gamma=0.0,\n",
       "  kernel='rbf', max_iter=-1, probability=True, random_state=None,\n",
       "  shrinking=True, tol=0.001, verbose=False)"
      ]
     },
     "execution_count": 220,
     "metadata": {},
     "output_type": "execute_result"
    }
   ],
   "source": [
    "X_train_svm = X_train[:10000]\n",
    "Y_train_svm = Y_train[:10000]\n",
    "# svmClf.fit(X_train_svm, Y_train_svm)\n",
    "optimalSVM = classify(svmClf, {'C': [0.01, 0.1, 1, 10]}, X_train_svm, Y_train_svm, X_test, Y_test, score_func=expectedCost)\n",
    "optimalSVM"
   ]
  },
  {
   "cell_type": "markdown",
   "metadata": {},
   "source": [
    "Notice above the differential between our accuracy on the training data and on the test data. \n",
    "\n",
    "For below: As a reminder, following output gives us our: truePositive, trueNegative, falsePositive, falseNegative. There are predictions in every category except for \"False Positives\", which is perhaps not too surprising given that positive results don't make up as much of our dataset. "
   ]
  },
  {
   "cell_type": "code",
   "execution_count": 221,
   "metadata": {
    "collapsed": false
   },
   "outputs": [
    {
     "data": {
      "text/plain": [
       "(4535, 26154, 0, 8885)"
      ]
     },
     "execution_count": 221,
     "metadata": {},
     "output_type": "execute_result"
    }
   ],
   "source": [
    "svmClf.fit(X_train_svm, Y_train_svm)\n",
    "svmPreds = svmClf.predict(X_test)\n",
    "getAccuracy(svmPreds, Y_test)"
   ]
  },
  {
   "cell_type": "markdown",
   "metadata": {},
   "source": [
    "Lets see what the expected cost of this type of classifier is: "
   ]
  },
  {
   "cell_type": "code",
   "execution_count": 222,
   "metadata": {
    "collapsed": false
   },
   "outputs": [
    {
     "data": {
      "text/plain": [
       "196347.82608695654"
      ]
     },
     "execution_count": 222,
     "metadata": {},
     "output_type": "execute_result"
    }
   ],
   "source": [
    "expectedCost(svmPreds, Y_test)"
   ]
  },
  {
   "cell_type": "markdown",
   "metadata": {},
   "source": [
    "Not bad, but I think we can do better. In HW3, the problem set mentioned that SVMs have an ability to translate their maximum-margin distance into a probability calculation (alibiet with not the most accurate translation all the time). At the time, we did not do it because it is very computationally expensive and takes a long time to run.\n",
    "\n",
    "However, for our report we do extract these probabilities and conduct our analysis to see which probability threshold is most rewarding. "
   ]
  },
  {
   "cell_type": "code",
   "execution_count": 223,
   "metadata": {
    "collapsed": false
   },
   "outputs": [],
   "source": [
    "ProbPredsSVM = optimalSVM.predict_proba(X_test)"
   ]
  },
  {
   "cell_type": "markdown",
   "metadata": {},
   "source": [
    "Lets try this for just the twenty percent threshold and see how we do"
   ]
  },
  {
   "cell_type": "code",
   "execution_count": 254,
   "metadata": {
    "collapsed": false
   },
   "outputs": [
    {
     "data": {
      "text/plain": [
       "1715443.4782608692"
      ]
     },
     "execution_count": 254,
     "metadata": {},
     "output_type": "execute_result"
    }
   ],
   "source": [
    "twentyPercentThreshold = thresholdPredictions(0.2, ProbPredsSVM)\n",
    "costTwentyPercentSVM = expectedCost(twentyPercentThreshold, Y_test)\n",
    "costTwentyPercentSVM"
   ]
  },
  {
   "cell_type": "markdown",
   "metadata": {},
   "source": [
    "Well that seems like we are heading in the right direction. So, now lets do it in the legitimate manner and go through every single possible value for the threshold."
   ]
  },
  {
   "cell_type": "code",
   "execution_count": 293,
   "metadata": {
    "collapsed": false
   },
   "outputs": [
    {
     "name": "stdout",
     "output_type": "stream",
     "text": [
      "########################\n",
      "1841295.65217\n",
      "0.16\n",
      "(8824, 20068, 9269, 1413)\n"
     ]
    },
    {
     "data": {
      "image/png": "[encoded data removed]",
      "text/plain": [
       "<matplotlib.figure.Figure at 0x180f6bf90>"
      ]
     },
     "metadata": {},
     "output_type": "display_data"
    }
   ],
   "source": [
    "best_payout_SVM = -99999999\n",
    "best_t_SVM = 0\n",
    "threshold_payouts = []\n",
    "for t in np.arange(0.00, 1.0, 0.02):\n",
    "    t_p = thresholdPredictions(t, ProbPredsSVM)\n",
    "    tp, tn, fp, fn = getAccuracy(t_p, Y_test)\n",
    "    payout = expectedCost(t_p, Y_test)\n",
    "    #payout = tp*PAYOUT_OF_TRUE_POSITIVE + tn * PAYOUT_OF_TRUE_NEGATIVE + fp*PAYOUT_OF_FALSE_POSITIVE + fn*PAYOUT_OF_FALSE_NEGATIVE\n",
    "    if payout >= best_payout_SVM:\n",
    "        best_payout_SVM = payout\n",
    "        best_t_SVM = t\n",
    "    threshold_payouts.append(payout)\n",
    "print \"########################\"\n",
    "print best_payout_SVM\n",
    "print best_t_SVM\n",
    "print getAccuracy(thresholdPredictions(best_t_SVM, ProbPredsSVM), Y_test)\n",
    "plt.plot(threshold_payouts)\n",
    "plt.ylabel('Money ($)')\n",
    "plt.xlabel('Threshold (Percentage)')\n",
    "plt.show()"
   ]
  },
  {
   "cell_type": "markdown",
   "metadata": {},
   "source": [
    "Great! Now we know that our SVM performs the best when we translate the margins into probabilities and classify \"YES\" crime at a 16% threshold. This gives us savings to Boston of $1.8 Million! \n",
    "\n",
    "Let's adopt a similar approach to see how the rest of our classifiers do..."
   ]
  },
  {
   "cell_type": "markdown",
   "metadata": {},
   "source": [
    "## Logistic Regression"
   ]
  },
  {
   "cell_type": "markdown",
   "metadata": {},
   "source": [
    "Overall, we will be using a very similar framework to above so it should hopefully be easy to follow now.\n",
    "\n",
    "Fit a logistic regression using it."
   ]
  },
  {
   "cell_type": "code",
   "execution_count": 255,
   "metadata": {
    "collapsed": false
   },
   "outputs": [
    {
     "data": {
      "text/plain": [
       "LogisticRegression(C=1.0, class_weight=None, dual=False, fit_intercept=True,\n",
       "          intercept_scaling=1, max_iter=100, multi_class='ovr',\n",
       "          penalty='l2', random_state=None, solver='liblinear', tol=0.0001,\n",
       "          verbose=0)"
      ]
     },
     "execution_count": 255,
     "metadata": {},
     "output_type": "execute_result"
    }
   ],
   "source": [
    "from sklearn.linear_model import LogisticRegression\n",
    "logClf = LogisticRegression()\n",
    "logClf.fit(X_train, Y_train)"
   ]
  },
  {
   "cell_type": "code",
   "execution_count": 227,
   "metadata": {
    "collapsed": false
   },
   "outputs": [
    {
     "name": "stdout",
     "output_type": "stream",
     "text": [
      "############# based on standard predict ################\n",
      "Accuracy on training data: 0.77\n",
      "Accuracy on test data:     0.77\n",
      "[[26106  3231]\n",
      " [ 5868  4369]]\n",
      "########################################################\n"
     ]
    }
   ],
   "source": [
    "optimalLogClf = do_classify(logClf, {'C': [0.01, 0.1, 1, 10]}, X_train, Y_train, X_test, Y_test, score_func=expectedCost)"
   ]
  },
  {
   "cell_type": "code",
   "execution_count": 256,
   "metadata": {
    "collapsed": false
   },
   "outputs": [],
   "source": [
    "logPredictions = optimalLogClf.predict(X_test)"
   ]
  },
  {
   "cell_type": "code",
   "execution_count": 257,
   "metadata": {
    "collapsed": false
   },
   "outputs": [
    {
     "data": {
      "text/plain": [
       "76626.08695652196"
      ]
     },
     "execution_count": 257,
     "metadata": {},
     "output_type": "execute_result"
    }
   ],
   "source": [
    "simpleCostLogReg = expectedCost(logPredictions, Y_test)\n",
    "simpleCostLogReg"
   ]
  },
  {
   "cell_type": "markdown",
   "metadata": {},
   "source": [
    "Hmm. This is not good, so lets try the threshold approach again. "
   ]
  },
  {
   "cell_type": "code",
   "execution_count": 258,
   "metadata": {
    "collapsed": false
   },
   "outputs": [],
   "source": [
    "ProbPredsLog = optimalLogClf.predict_proba(X_test)"
   ]
  },
  {
   "cell_type": "markdown",
   "metadata": {},
   "source": [
    "The below code just tells us the Threshold that gives us the best ACCURACY (though remember we care more about dollar savings!). It is an interesting result that in this case the threshold is 0.5 but we can mostly ignore the following cells for the sake of our report (other than it being an interesting result) and go straight to the one that optimizes the cash."
   ]
  },
  {
   "cell_type": "code",
   "execution_count": 232,
   "metadata": {
    "collapsed": false
   },
   "outputs": [
    {
     "name": "stdout",
     "output_type": "stream",
     "text": [
      "0.770076312731\n",
      "0.5\n",
      "########################\n",
      "(4369, 26106, 3231, 5868)\n"
     ]
    }
   ],
   "source": [
    "best_accuracy = 0\n",
    "best_t = 0\n",
    "for t in np.arange(0.1, 0.98, 0.2):\n",
    "    t_p = thresholdPredictions(t, ProbPredsLog)\n",
    "    tp, tn, fp, fn = getAccuracy(t_p, Y_test)\n",
    "    accuracy = float((tn + tp))/(tp + tn + fp + fn)\n",
    "    if accuracy > best_accuracy:\n",
    "        best_accuracy = accuracy\n",
    "        best_t = t\n",
    "print best_accuracy\n",
    "print best_t\n",
    "print \"########################\"\n",
    "print getAccuracy(thresholdPredictions(best_t, ProbPredsLog), Y_test)"
   ]
  },
  {
   "cell_type": "code",
   "execution_count": 294,
   "metadata": {
    "collapsed": false
   },
   "outputs": [
    {
     "name": "stdout",
     "output_type": "stream",
     "text": [
      "########################\n",
      "1945800.0\n",
      "0.18\n",
      "(9289, 19054, 10283, 948)\n"
     ]
    },
    {
     "data": {
      "image/png": "[encoded data removed]",
      "text/plain": [
       "<matplotlib.figure.Figure at 0x179f0f8d0>"
      ]
     },
     "metadata": {},
     "output_type": "display_data"
    }
   ],
   "source": [
    "best_payout_log = -99999999\n",
    "best_t_log = 0\n",
    "threshold_payouts = []\n",
    "for t in np.arange(0.02, 0.98, 0.02):\n",
    "    t_p = thresholdPredictions(t, ProbPredsLog)\n",
    "    tp, tn, fp, fn = getAccuracy(t_p, Y_test)\n",
    "    payout = expectedCost(t_p, Y_test)\n",
    "    if payout >= best_payout_log:\n",
    "        best_payout_log = payout\n",
    "        best_t_log = t\n",
    "    threshold_payouts.append(payout)\n",
    "print \"########################\"\n",
    "print best_payout_log\n",
    "print best_t_log\n",
    "print getAccuracy(thresholdPredictions(best_t_log, ProbPredsLog), Y_test)\n",
    "plt.plot(threshold_payouts)\n",
    "plt.ylabel('Money ($)')\n",
    "plt.xlabel('Threshold (Percentage)')\n",
    "plt.show()"
   ]
  },
  {
   "cell_type": "markdown",
   "metadata": {},
   "source": [
    "For the Logistic Regression, the best probability threshold is slightly higher than in the SVM at 0.18 and even saves more money at $1,945,800! Not bad, but can we do better?"
   ]
  },
  {
   "cell_type": "markdown",
   "metadata": {},
   "source": [
    "## Naive Bayes"
   ]
  },
  {
   "cell_type": "code",
   "execution_count": 234,
   "metadata": {
    "collapsed": false
   },
   "outputs": [
    {
     "data": {
      "text/plain": [
       "GaussianNB()"
      ]
     },
     "execution_count": 234,
     "metadata": {},
     "output_type": "execute_result"
    }
   ],
   "source": [
    "from sklearn import naive_bayes\n",
    "naiveGBclf = naive_bayes.GaussianNB()\n",
    "naiveGBclf.fit(X_train, Y_train)"
   ]
  },
  {
   "cell_type": "markdown",
   "metadata": {},
   "source": [
    "Lets get some basic stats that are automatically collected when we create a Naive Bayes Gaussian Classifier and then report on them. These are perhaps helpful to be the first things we look at when we curated this data set. "
   ]
  },
  {
   "cell_type": "code",
   "execution_count": 235,
   "metadata": {
    "collapsed": false
   },
   "outputs": [
    {
     "name": "stdout",
     "output_type": "stream",
     "text": [
      "the prior probabilities for the classes are :  [ 0.74129333  0.25870667]\n",
      "There are  111194.0  instances of Class 0 (No Crime)\n",
      "There are   38806.0  instances of Class 1 (Crime)\n"
     ]
    }
   ],
   "source": [
    "print \"the prior probabilities for the classes are : \", naiveGBclf.class_prior_\n",
    "print \"There are \", naiveGBclf.class_count_[0], \" instances of Class 0 (No Crime)\"\n",
    "print \"There are  \", naiveGBclf.class_count_[1], \" instances of Class 1 (Crime)\""
   ]
  },
  {
   "cell_type": "markdown",
   "metadata": {},
   "source": [
    "Doesn't seem that there are any real hyper-parameters to tune for the Naive Bayes classifier so we can go ahead and dive straight into the predictions and utility there. Afterwards, we can do the same thing as above and analyze thresholds. "
   ]
  },
  {
   "cell_type": "code",
   "execution_count": 236,
   "metadata": {
    "collapsed": false
   },
   "outputs": [],
   "source": [
    "naiveBayesPreds = naiveGBclf.predict(X_test)"
   ]
  },
  {
   "cell_type": "markdown",
   "metadata": {},
   "source": [
    "Check how many times we predicted a crime was going to occur"
   ]
  },
  {
   "cell_type": "code",
   "execution_count": 237,
   "metadata": {
    "collapsed": false
   },
   "outputs": [
    {
     "name": "stdout",
     "output_type": "stream",
     "text": [
      "The number of predicted crimes were :  11807\n",
      "The number of actual crimes was :  10237\n"
     ]
    }
   ],
   "source": [
    "print \"The number of predicted crimes were : \", sum(naiveBayesPreds)\n",
    "print \"The number of actual crimes was : \", sum(Y_test)"
   ]
  },
  {
   "cell_type": "markdown",
   "metadata": {},
   "source": [
    "Calculate the overall accuracy of our Naive Bayes Classifier, comparing it on the training set to the test set."
   ]
  },
  {
   "cell_type": "code",
   "execution_count": 238,
   "metadata": {
    "collapsed": false
   },
   "outputs": [
    {
     "data": {
      "text/plain": [
       "0.76460666666666666"
      ]
     },
     "execution_count": 238,
     "metadata": {},
     "output_type": "execute_result"
    }
   ],
   "source": [
    "naiveGBclf.score(X_train, Y_train)"
   ]
  },
  {
   "cell_type": "code",
   "execution_count": 239,
   "metadata": {
    "collapsed": false,
    "scrolled": true
   },
   "outputs": [
    {
     "data": {
      "text/plain": [
       "0.7642391469146409"
      ]
     },
     "execution_count": 239,
     "metadata": {},
     "output_type": "execute_result"
    }
   ],
   "source": [
    "naiveGBclf.score(X_test, Y_test)"
   ]
  },
  {
   "cell_type": "markdown",
   "metadata": {},
   "source": [
    "The expected cost from just using the Naive Bayes approach:"
   ]
  },
  {
   "cell_type": "code",
   "execution_count": 240,
   "metadata": {
    "collapsed": false
   },
   "outputs": [
    {
     "data": {
      "text/plain": [
       "927339.1304347825"
      ]
     },
     "execution_count": 240,
     "metadata": {},
     "output_type": "execute_result"
    }
   ],
   "source": [
    "simpleCostNB = expectedCost(naiveBayesPreds, Y_test)\n",
    "simpleCostNB"
   ]
  },
  {
   "cell_type": "markdown",
   "metadata": {},
   "source": [
    "Lets optimize over our threshold probabilities as we did for our SVM and Logistic Regression and see how we do relative to those:"
   ]
  },
  {
   "cell_type": "code",
   "execution_count": 241,
   "metadata": {
    "collapsed": false
   },
   "outputs": [
    {
     "data": {
      "text/plain": [
       "array([[  6.70370462e-01,   3.29629538e-01],\n",
       "       [  6.88210492e-01,   3.11789508e-01],\n",
       "       [  9.99993083e-01,   6.91675997e-06],\n",
       "       ..., \n",
       "       [  9.99979146e-01,   2.08540182e-05],\n",
       "       [  9.99436488e-01,   5.63512056e-04],\n",
       "       [  6.05992322e-01,   3.94007678e-01]])"
      ]
     },
     "execution_count": 241,
     "metadata": {},
     "output_type": "execute_result"
    }
   ],
   "source": [
    "ProbPredsNaiveBayes = naiveGBclf.predict_proba(X_test)\n",
    "ProbPredsNaiveBayes"
   ]
  },
  {
   "cell_type": "code",
   "execution_count": 292,
   "metadata": {
    "collapsed": false
   },
   "outputs": [
    {
     "name": "stdout",
     "output_type": "stream",
     "text": [
      "########################\n",
      "2292365.21739\n",
      "0.14\n",
      "(9916, 18715, 10622, 321)\n"
     ]
    },
    {
     "data": {
      "image/png": "[encoded data removed]",
      "text/plain": [
       "<matplotlib.figure.Figure at 0x157057e90>"
      ]
     },
     "metadata": {},
     "output_type": "display_data"
    }
   ],
   "source": [
    "best_payout_NB = -99999999\n",
    "best_t_NB = 0\n",
    "thresholds = []\n",
    "threshold_payouts = []\n",
    "for t in np.arange(0.00, 1.0, 0.01):\n",
    "    t_p = thresholdPredictions(t, ProbPredsNaiveBayes)\n",
    "    tp, tn, fp, fn = getAccuracy(t_p, Y_test)\n",
    "    payout = expectedCost(t_p, Y_test)\n",
    "    if payout >= best_payout_NB:\n",
    "        best_payout_NB = payout\n",
    "        best_t_NB = t\n",
    "    thresholds.append(t)\n",
    "    threshold_payouts.append(payout)\n",
    "print \"########################\"\n",
    "print best_payout_NB\n",
    "print best_t_NB\n",
    "print getAccuracy(thresholdPredictions(best_t_NB, ProbPredsNaiveBayes), Y_test)\n",
    "plt.plot(threshold_payouts)\n",
    "plt.ylabel('Money ($)')\n",
    "plt.xlabel('Threshold (Percentage)')\n",
    "plt.show()"
   ]
  },
  {
   "cell_type": "markdown",
   "metadata": {},
   "source": [
    "Wow! Using a similar threshold to our SVM approach, our Naive Bayes model actually ends up saving us $2,292,365 over our testing timeline. There's no way we can do better, is there?"
   ]
  },
  {
   "cell_type": "markdown",
   "metadata": {},
   "source": [
    "## Random Forest"
   ]
  },
  {
   "cell_type": "code",
   "execution_count": 409,
   "metadata": {
    "collapsed": true
   },
   "outputs": [],
   "source": [
    "from sklearn.ensemble import RandomForestClassifier"
   ]
  },
  {
   "cell_type": "code",
   "execution_count": 410,
   "metadata": {
    "collapsed": false
   },
   "outputs": [
    {
     "data": {
      "text/plain": [
       "RandomForestClassifier(bootstrap=True, class_weight=None, criterion='gini',\n",
       "            max_depth=None, max_features='auto', max_leaf_nodes=None,\n",
       "            min_samples_leaf=1, min_samples_split=2,\n",
       "            min_weight_fraction_leaf=0.0, n_estimators=10, n_jobs=1,\n",
       "            oob_score=False, random_state=None, verbose=0,\n",
       "            warm_start=False)"
      ]
     },
     "execution_count": 410,
     "metadata": {},
     "output_type": "execute_result"
    }
   ],
   "source": [
    "rfclf = RandomForestClassifier()\n",
    "rfclf.fit(X_train, Y_train)"
   ]
  },
  {
   "cell_type": "markdown",
   "metadata": {},
   "source": [
    "Random forest has some interesting results that I want to highlight here. Take a look at the accuracy on the training set versus the test set. Clearly not optimal. "
   ]
  },
  {
   "cell_type": "code",
   "execution_count": 411,
   "metadata": {
    "collapsed": false
   },
   "outputs": [
    {
     "data": {
      "text/plain": [
       "0.9912266666666667"
      ]
     },
     "execution_count": 411,
     "metadata": {},
     "output_type": "execute_result"
    }
   ],
   "source": [
    "rfclf.score(X_train, Y_train)"
   ]
  },
  {
   "cell_type": "code",
   "execution_count": 412,
   "metadata": {
    "collapsed": false
   },
   "outputs": [
    {
     "data": {
      "text/plain": [
       "0.87317430636276339"
      ]
     },
     "execution_count": 412,
     "metadata": {},
     "output_type": "execute_result"
    }
   ],
   "source": [
    "rfclf.score(X_test, Y_test)"
   ]
  },
  {
   "cell_type": "code",
   "execution_count": 413,
   "metadata": {
    "collapsed": false
   },
   "outputs": [
    {
     "data": {
      "text/plain": [
       "2156660.8695652173"
      ]
     },
     "execution_count": 413,
     "metadata": {},
     "output_type": "execute_result"
    }
   ],
   "source": [
    "defaultRFPreds = rfclf.predict(X_test)\n",
    "simpleRFcost = expectedCost(defaultRFPreds, Y_test)\n",
    "simpleRFcost"
   ]
  },
  {
   "cell_type": "markdown",
   "metadata": {},
   "source": [
    "Lets see which features the Random Forest classifier says are the most important:"
   ]
  },
  {
   "cell_type": "code",
   "execution_count": 414,
   "metadata": {
    "collapsed": false
   },
   "outputs": [
    {
     "name": "stdout",
     "output_type": "stream",
     "text": [
      "[ 0.14304276  0.41052838  0.0325848   0.12727207  0.01052049  0.00912686\n",
      "  0.01482201  0.06008628  0.19201636]\n"
     ]
    },
    {
     "data": {
      "text/plain": [
       "[14.32, 9.0, 10.0, 1017.78, 0.0, 0.0, 0, 6.0, 4.4375]"
      ]
     },
     "execution_count": 414,
     "metadata": {},
     "output_type": "execute_result"
    }
   ],
   "source": [
    "print rfclf.feature_importances_\n",
    "X_train[0]"
   ]
  },
  {
   "cell_type": "markdown",
   "metadata": {},
   "source": [
    "Lets go ahead and optimize our Random Forest classifier, on the number of estimators. "
   ]
  },
  {
   "cell_type": "code",
   "execution_count": 415,
   "metadata": {
    "collapsed": false
   },
   "outputs": [
    {
     "name": "stdout",
     "output_type": "stream",
     "text": [
      "############# based on standard predict ################\n",
      "Accuracy on training data: 1.00\n",
      "Accuracy on test data:     0.87\n",
      "[[27463  1874]\n",
      " [ 3258  6979]]\n",
      "########################################################\n"
     ]
    }
   ],
   "source": [
    "optimalRF = do_classify(rfclf, {'n_estimators': [2,4,6,8,10, 12, 14, 18, 16, 20]}, X_train_svm, Y_train_svm, X_test, Y_test, score_func=expectedCost)"
   ]
  },
  {
   "cell_type": "markdown",
   "metadata": {},
   "source": [
    "Note an interesting result: Our random forest predicts perfectly on our training data but is quite different (yet still good) on our test data. Potential risk of overfitting with this calibration."
   ]
  },
  {
   "cell_type": "code",
   "execution_count": 416,
   "metadata": {
    "collapsed": false,
    "scrolled": true
   },
   "outputs": [
    {
     "data": {
      "text/plain": [
       "RandomForestClassifier(bootstrap=True, class_weight=None, criterion='gini',\n",
       "            max_depth=None, max_features='auto', max_leaf_nodes=None,\n",
       "            min_samples_leaf=1, min_samples_split=2,\n",
       "            min_weight_fraction_leaf=0.0, n_estimators=20, n_jobs=1,\n",
       "            oob_score=False, random_state=None, verbose=0,\n",
       "            warm_start=False)"
      ]
     },
     "execution_count": 416,
     "metadata": {},
     "output_type": "execute_result"
    }
   ],
   "source": [
    "optimalRF"
   ]
  },
  {
   "cell_type": "code",
   "execution_count": 417,
   "metadata": {
    "collapsed": false,
    "scrolled": true
   },
   "outputs": [
    {
     "name": "stdout",
     "output_type": "stream",
     "text": [
      "The score (accuracy) of the optimal RF predictions is :  0.870318896245\n",
      "The expected cost of the optimal RF predictions is :  2084695.65217\n"
     ]
    }
   ],
   "source": [
    "optimalRFPreds = optimalRF.predict(X_test)\n",
    "print \"The score (accuracy) of the optimal RF predictions is : \", optimalRF.score(X_test, Y_test)\n",
    "print \"The expected cost of the optimal RF predictions is : \", expectedCost(optimalRFPreds, Y_test)"
   ]
  },
  {
   "cell_type": "code",
   "execution_count": 418,
   "metadata": {
    "collapsed": true
   },
   "outputs": [],
   "source": [
    "ProbPredsRF = optimalRF.predict_proba(X_test)"
   ]
  },
  {
   "cell_type": "code",
   "execution_count": 419,
   "metadata": {
    "collapsed": false,
    "scrolled": true
   },
   "outputs": [
    {
     "name": "stdout",
     "output_type": "stream",
     "text": [
      "########################\n",
      "2880043.47826\n",
      "0.25\n",
      "(9385, 23408, 5929, 852)\n"
     ]
    },
    {
     "data": {
      "image/png": "[encoded data removed]",
      "text/plain": [
       "<matplotlib.figure.Figure at 0x18042e610>"
      ]
     },
     "metadata": {},
     "output_type": "display_data"
    }
   ],
   "source": [
    "best_payout_rf = -99999999\n",
    "best_t_rf = 0\n",
    "threshold_payouts = []\n",
    "for t in np.arange(0.0, 1.0, 0.01):\n",
    "    t_p = thresholdPredictions(t, ProbPredsRF)\n",
    "    tp, tn, fp, fn = getAccuracy(t_p, Y_test)\n",
    "    payout = expectedCost(t_p, Y_test)\n",
    "    if payout >= best_payout_rf:\n",
    "        best_payout_rf = payout\n",
    "        best_t_rf = t\n",
    "    threshold_payouts.append(payout)\n",
    "print \"########################\"\n",
    "print best_payout_rf\n",
    "print best_t_rf\n",
    "print getAccuracy(thresholdPredictions(best_t_rf, ProbPredsRF), Y_test)\n",
    "plt.plot(threshold_payouts)\n",
    "plt.ylabel('Money ($)')\n",
    "plt.xlabel('Threshold (Percentage)')\n",
    "plt.show()"
   ]
  },
  {
   "cell_type": "markdown",
   "metadata": {},
   "source": [
    "The winner becomes clear! We don't actually have to adjust our threshold from a 50% baseline nearly as much using Random Forest as with the other classifiers and can keep it at a comfortable 0.25. This still ends up saving a whopping $2,847,434 over our test set and is certainly high enough for us to declare a high amount of confidence in this classifier. "
   ]
  },
  {
   "cell_type": "markdown",
   "metadata": {},
   "source": [
    "# Trying to Predict the Number of Crimes"
   ]
  },
  {
   "cell_type": "markdown",
   "metadata": {},
   "source": [
    "In the previous part, we tried to predict WHETHER or not a crime would occur in a given time frame at a given location (a binary choice). In this part, we will try to predict the NUMBER of crimes that will occur in a given time frame at a given location."
   ]
  },
  {
   "cell_type": "markdown",
   "metadata": {},
   "source": [
    "## Important Note"
   ]
  },
  {
   "cell_type": "markdown",
   "metadata": {},
   "source": [
    "We discussed this part with our TF because it is very difficult to get a good prediction accuracy on the \"Number of Crimes\" that occur at a given location at a given time due to the incredibly high variance of hour-to-hour crime. When the number of crimes that happen in a given hour in a lat, long can range anywhere from 0 to dozens, it becomes nearly impossible to predict which number in the range will actually occur, especially for our machine learning classifiers which see barely any probability density differences between the potential classes. \n",
    "\n",
    "We agreed with our TF's recommendation to not focus on this part in our report, but would like to include some of our attempts in trying to build a successful model around this below. Please feel free to skim the following section as we attempt a few different models that try to predict the number of crimes and explain what went right and (more often) why the models fail. The results of this section are here more out of interest and academic curiosity and will not be crucial to understanding the final result of our project. "
   ]
  },
  {
   "cell_type": "markdown",
   "metadata": {},
   "source": [
    "## Building up Number of Crime Vectors"
   ]
  },
  {
   "cell_type": "markdown",
   "metadata": {},
   "source": [
    "Build an Num_Crimes Y set that contains the number of crimes with a max of 5 crimes per day."
   ]
  },
  {
   "cell_type": "code",
   "execution_count": 276,
   "metadata": {
    "collapsed": false
   },
   "outputs": [],
   "source": [
    "#rebuild an X and Y now with number of crimes with a max of 20 an hour/loc. This is because \n",
    "Y_numCrimes = []\n",
    "for k in weatherDict.keys():\n",
    "    if k in crimeDictionary:\n",
    "        Y_numCrimes.append(min(len(crimeDictionary[k]), 20))\n",
    "    else:\n",
    "        Y_numCrimes.append(0)"
   ]
  },
  {
   "cell_type": "code",
   "execution_count": 277,
   "metadata": {
    "collapsed": false
   },
   "outputs": [],
   "source": [
    "random.seed(1)\n",
    "X_num_shuffled = sorted(X, key=lambda k: random.random())\n",
    "random.seed(1)\n",
    "Y_shuffled_numCrimes = sorted(Y_numCrimes, key=lambda k: random.random())\n",
    "X_num_train = X_num_shuffled[0:150000]\n",
    "Y_num_train = Y_shuffled_numCrimes[0:150000]\n",
    "X_num_test = X_num_shuffled[150000:]\n",
    "Y_num_test = Y_shuffled_numCrimes[150000:]"
   ]
  },
  {
   "cell_type": "markdown",
   "metadata": {},
   "source": [
    "### Trying Using Logistic Regression"
   ]
  },
  {
   "cell_type": "code",
   "execution_count": 278,
   "metadata": {
    "collapsed": false
   },
   "outputs": [
    {
     "data": {
      "text/plain": [
       "LogisticRegression(C=1.0, class_weight=None, dual=False, fit_intercept=True,\n",
       "          intercept_scaling=1, max_iter=100, multi_class='ovr',\n",
       "          penalty='l2', random_state=None, solver='liblinear', tol=0.0001,\n",
       "          verbose=0)"
      ]
     },
     "execution_count": 278,
     "metadata": {},
     "output_type": "execute_result"
    }
   ],
   "source": [
    "logClfNum = LogisticRegression()\n",
    "logClfNum.fit(X_num_train, Y_num_train)"
   ]
  },
  {
   "cell_type": "code",
   "execution_count": 281,
   "metadata": {
    "collapsed": false
   },
   "outputs": [
    {
     "data": {
      "text/plain": [
       "1200"
      ]
     },
     "execution_count": 281,
     "metadata": {},
     "output_type": "execute_result"
    }
   ],
   "source": [
    "#How many time/loc combos are there that had 20 or more crimes?\n",
    "z = map(lambda x: 1 if x > 19 else 0, Y_numCrimes)\n",
    "sum(z)"
   ]
  },
  {
   "cell_type": "code",
   "execution_count": 282,
   "metadata": {
    "collapsed": false
   },
   "outputs": [],
   "source": [
    "numPredProbs = logClfNum.predict_proba(X[150000:])"
   ]
  },
  {
   "cell_type": "markdown",
   "metadata": {},
   "source": [
    "How many crimes were predicted using this classifier at the conventional 0.5 threshold?"
   ]
  },
  {
   "cell_type": "code",
   "execution_count": 283,
   "metadata": {
    "collapsed": false
   },
   "outputs": [
    {
     "data": {
      "text/plain": [
       "6625"
      ]
     },
     "execution_count": 283,
     "metadata": {},
     "output_type": "execute_result"
    }
   ],
   "source": [
    "numbercrimesconventional = map(lambda x: 1 if x[0] <= 0.5 else 0, numPredProbs)\n",
    "sum(numbercrimesconventional)"
   ]
  },
  {
   "cell_type": "markdown",
   "metadata": {},
   "source": [
    "To make things easier, lets define a function that takes into as an argument a list of probabilities of belonging in each class (from 0 to 20 crimes), and a threshold over which we ignore the possibility of no crime and just get the maximum probability over the rest of the classes."
   ]
  },
  {
   "cell_type": "code",
   "execution_count": 300,
   "metadata": {
    "collapsed": true
   },
   "outputs": [],
   "source": [
    "def get_numCrimes_from_probs(probs, threshold):\n",
    "    predsFromProbs = []\n",
    "    for lst in probs:\n",
    "        if lst[0] >= threshold:\n",
    "            predsFromProbs.append(np.argmax(lst[1:]))\n",
    "        else:\n",
    "            predsFromProbs.append(0)\n",
    "    return predsFromProbs"
   ]
  },
  {
   "cell_type": "code",
   "execution_count": 301,
   "metadata": {
    "collapsed": false
   },
   "outputs": [],
   "source": [
    "numCrimesPredicted = get_numCrimes_from_probs(numPredProbs, 0.18)"
   ]
  },
  {
   "cell_type": "code",
   "execution_count": 302,
   "metadata": {
    "collapsed": false
   },
   "outputs": [
    {
     "name": "stdout",
     "output_type": "stream",
     "text": [
      "0 19\n"
     ]
    },
    {
     "data": {
      "text/plain": [
       "35333"
      ]
     },
     "execution_count": 302,
     "metadata": {},
     "output_type": "execute_result"
    }
   ],
   "source": [
    "print min(numCrimesPredicted), max(numCrimesPredicted)\n",
    "numCrimesPredicted.count(0)"
   ]
  },
  {
   "cell_type": "markdown",
   "metadata": {},
   "source": [
    "The above is actually not too bad as we see we are indeed predicting crimes all the way from 0 to 19 crimes at a given lat, long, hour (and remember technically we reduce the number of crimes that happen to be from 0 to 20). "
   ]
  },
  {
   "cell_type": "markdown",
   "metadata": {},
   "source": [
    "So, lets see how good our error rate is by defining a function that computes our error as a function of average distance from true labels (this is essentially the Root Mean Square Error we are familiar with from regressions)."
   ]
  },
  {
   "cell_type": "code",
   "execution_count": 316,
   "metadata": {
    "collapsed": true
   },
   "outputs": [],
   "source": [
    "def get_absolute_error(preds, correct):\n",
    "    error = []\n",
    "    for i in xrange(len(preds)):\n",
    "        error.append((correct[i] - preds[i])**2)\n",
    "    return sum(error)/len(error)"
   ]
  },
  {
   "cell_type": "markdown",
   "metadata": {},
   "source": [
    "The following subroutine will now optimize the threshold we calculate on whether or not there is a crime using the RMSE. "
   ]
  },
  {
   "cell_type": "code",
   "execution_count": 315,
   "metadata": {
    "collapsed": false
   },
   "outputs": [
    {
     "name": "stdout",
     "output_type": "stream",
     "text": [
      "the best error found was :  13\n",
      "the best threshold for this part was :  0.94\n"
     ]
    }
   ],
   "source": [
    "best_error = 9999999\n",
    "best_t_num = 0\n",
    "best_preds_numCrimes = None\n",
    "for t in np.arange(0.02, 0.98, 0.01):\n",
    "    preds = get_numCrimes_from_probs(numPredProbs, t)\n",
    "    error = get_absolute_error(preds, Y_num_test)\n",
    "    if error < best_error:\n",
    "        best_error = error\n",
    "        best_t_num = t\n",
    "        best_preds_numCrimes = preds\n",
    "print \"the best error found was : \", best_error\n",
    "print \"the best threshold for this part was : \", best_t_num"
   ]
  },
  {
   "cell_type": "markdown",
   "metadata": {},
   "source": [
    "An average RMSE of 13 in this context is not very good. Let's keep trying other things.."
   ]
  },
  {
   "cell_type": "markdown",
   "metadata": {},
   "source": [
    "### Trying using Naive Bayes"
   ]
  },
  {
   "cell_type": "code",
   "execution_count": 317,
   "metadata": {
    "collapsed": false
   },
   "outputs": [
    {
     "data": {
      "text/plain": [
       "GaussianNB()"
      ]
     },
     "execution_count": 317,
     "metadata": {},
     "output_type": "execute_result"
    }
   ],
   "source": [
    "naiveGBclfNum = naive_bayes.GaussianNB()\n",
    "naiveGBclfNum.fit(X_num_train, Y_num_train)"
   ]
  },
  {
   "cell_type": "code",
   "execution_count": 318,
   "metadata": {
    "collapsed": false
   },
   "outputs": [
    {
     "name": "stdout",
     "output_type": "stream",
     "text": [
      "the prior probabilities for the classes are :  [ 0.74129333  0.09597333  0.04176     0.02132667  0.01306     0.00934667\n",
      "  0.00665333  0.00582667  0.00552667  0.00566667  0.00612667  0.00623333\n",
      "  0.00576     0.00612     0.00564     0.00478     0.00396667  0.00355333\n",
      "  0.00266667  0.00229333  0.00642667]\n",
      "There number in each class is :   [ 111194.   14396.    6264.    3199.    1959.    1402.     998.     874.\n",
      "     829.     850.     919.     935.     864.     918.     846.     717.\n",
      "     595.     533.     400.     344.     964.]\n"
     ]
    }
   ],
   "source": [
    "print \"the prior probabilities for the classes are : \", naiveGBclfNum.class_prior_\n",
    "print \"There number in each class is :  \", naiveGBclfNum.class_count_"
   ]
  },
  {
   "cell_type": "code",
   "execution_count": 319,
   "metadata": {
    "collapsed": false
   },
   "outputs": [],
   "source": [
    "numCrimesPredictedNB = naiveGBclfNum.predict(X_test)"
   ]
  },
  {
   "cell_type": "code",
   "execution_count": 320,
   "metadata": {
    "collapsed": false
   },
   "outputs": [],
   "source": [
    "numProbPredsNB = naiveGBclfNum.predict_proba(X_test)"
   ]
  },
  {
   "cell_type": "code",
   "execution_count": 324,
   "metadata": {
    "collapsed": false
   },
   "outputs": [
    {
     "data": {
      "text/plain": [
       "18"
      ]
     },
     "execution_count": 324,
     "metadata": {},
     "output_type": "execute_result"
    }
   ],
   "source": [
    "get_absolute_error(numCrimesPredictedNB, Y_num_test)"
   ]
  },
  {
   "cell_type": "markdown",
   "metadata": {},
   "source": [
    "18 as an average error is certainly not good so lets try our threshold optimization technique. "
   ]
  },
  {
   "cell_type": "code",
   "execution_count": 325,
   "metadata": {
    "collapsed": false
   },
   "outputs": [
    {
     "name": "stdout",
     "output_type": "stream",
     "text": [
      "the best error found was :  14\n",
      "the best threshold for this part was :  0.93\n"
     ]
    }
   ],
   "source": [
    "best_error = 9999999\n",
    "best_t_num = 0\n",
    "best_preds_numCrimes = None\n",
    "for t in np.arange(0.02, 0.98, 0.01):\n",
    "    preds = get_numCrimes_from_probs(numProbPredsNB, t)\n",
    "    error = get_absolute_error(preds, Y_num_test)\n",
    "    if error < best_error:\n",
    "        best_error = error\n",
    "        best_t_num = t\n",
    "        best_preds_numCrimes = preds\n",
    "print \"the best error found was : \", best_error\n",
    "print \"the best threshold for this part was : \", best_t_num"
   ]
  },
  {
   "cell_type": "markdown",
   "metadata": {},
   "source": [
    "Not any better than above, so lets try one more time. "
   ]
  },
  {
   "cell_type": "markdown",
   "metadata": {},
   "source": [
    "### Trying using Linear Regression"
   ]
  },
  {
   "cell_type": "code",
   "execution_count": 326,
   "metadata": {
    "collapsed": false
   },
   "outputs": [
    {
     "data": {
      "text/plain": [
       "LinearRegression(copy_X=True, fit_intercept=True, n_jobs=1, normalize=False)"
      ]
     },
     "execution_count": 326,
     "metadata": {},
     "output_type": "execute_result"
    }
   ],
   "source": [
    "from sklearn.linear_model import LinearRegression\n",
    "lin = LinearRegression()\n",
    "lin.fit(X_num_train, Y_num_train)"
   ]
  },
  {
   "cell_type": "code",
   "execution_count": 327,
   "metadata": {
    "collapsed": false
   },
   "outputs": [],
   "source": [
    "linearPredictions = lin.predict(X_num_test)"
   ]
  },
  {
   "cell_type": "code",
   "execution_count": 328,
   "metadata": {
    "collapsed": false,
    "scrolled": true
   },
   "outputs": [
    {
     "name": "stdout",
     "output_type": "stream",
     "text": [
      "-3.08811282524 6.37104928964\n"
     ]
    }
   ],
   "source": [
    "print min(linearPredictions), max(linearPredictions)"
   ]
  },
  {
   "cell_type": "markdown",
   "metadata": {},
   "source": [
    "Hmm..clearly this doesn't work too well seeing as the minimum of our predictions should be 0 and the maximum should be 20! Linear Regression doesn't have any threshold optimization we would like to do here so we can feel free to not spend any more time optimizing things, and for the time being move on from trying to predict the number of crimes to something else. \n",
    "\n",
    "For now, let's move on to bigger and better things. "
   ]
  },
  {
   "cell_type": "markdown",
   "metadata": {},
   "source": [
    "# Incorporating Severity for Smarter Crime Prediction"
   ]
  },
  {
   "cell_type": "markdown",
   "metadata": {},
   "source": [
    "In the previous part of this notebook, we made several oversimplifying assumptions in order to train machine learning classifiers that could make a binary prediction (YES or NO) on whether or not a crime was going to occur in a given location at a particular time. We then said if we knew a crime was going to occur at a location, we could save the \"Average National Cost of Crime\" by preventing it if we dispatched a certain number of officers for a particular amount of time, less the cost of hiring the officers for that amount of time. \n",
    "\n",
    "However, this vastly underestimates the actual savings we would have because the Average National Cost of Crime is different from the costs of crime we found in a Boston Dataset, and because it does not take into account the fact that there are often MULTIPLE crimes in a given location at a given hour and if we dispatched officers, we could conceivably stop anywhere from none to all of these. \n",
    "\n",
    "We now take the classifiers that were best at simply predicting WHETHER or not a crime would occur, and use them to see how much money they would actually save us over our testing period. We do this by now summing up all the costs for all the crimes we could potentially prevent (i.e. if we predicted that there was going to be a crime in that location/hour, we then sum up the costs of all the crimes that took place in that location/hour). Then, we take this value and plot it against a few different thresholds of success (i.e. if the Police we dispatched were \"20\" percent effective at stopping this crime we would save \"x\" amount, and if they were \"80%\" effective at stopping this crime, we would save \"x\" amount).\n",
    "\n",
    "__Lastly, we assume that more severe crimes are harder for the police to stop. In order to account for this, we multiply the expected cost savings for a particular crime that occurs by (1/sqrt(severity)). So, even if we predict a \"10 severity\" crime correctly, we only report a 10% chance of actually stopping it. We call these our adjusted savings.__ \n",
    "\n",
    "Now, we are going to incorporate Severity Scores for our predictions. Let's revisit the cost of crime figures from before and update them to be smarter based on how severe a crime that is occuring is. "
   ]
  },
  {
   "cell_type": "markdown",
   "metadata": {
    "collapsed": true
   },
   "source": [
    "### Using our Best Classifier - Random Forest"
   ]
  },
  {
   "cell_type": "code",
   "execution_count": 420,
   "metadata": {
    "collapsed": false
   },
   "outputs": [
    {
     "data": {
      "text/plain": [
       "RandomForestClassifier(bootstrap=True, class_weight=None, criterion='gini',\n",
       "            max_depth=None, max_features='auto', max_leaf_nodes=None,\n",
       "            min_samples_leaf=1, min_samples_split=2,\n",
       "            min_weight_fraction_leaf=0.0, n_estimators=20, n_jobs=1,\n",
       "            oob_score=False, random_state=None, verbose=0,\n",
       "            warm_start=False)"
      ]
     },
     "execution_count": 420,
     "metadata": {},
     "output_type": "execute_result"
    }
   ],
   "source": [
    "optimalRF"
   ]
  },
  {
   "cell_type": "code",
   "execution_count": 421,
   "metadata": {
    "collapsed": true
   },
   "outputs": [],
   "source": [
    "bestRFProbPreds = optimalRF.predict_proba(X_test)\n",
    "bestRFPreds = thresholdPredictions(best_t_rf, bestRFProbPreds)"
   ]
  },
  {
   "cell_type": "markdown",
   "metadata": {},
   "source": [
    "Lets take a quick look at how our probability of catching a criminal is effected by the severity of the crime we are investigating under our model.\n",
    "NOTE: It is obviously very difficult to tell a \"probability of catching a criminal\" just based on a severity score. So, we just use a simple common-sense assumption that very minor crimes would be fairly easy to prevent, and that as the crime gets more serious it becomes harder for them to catch, but not at a linear rate (i.e. its not like a 10 crime is linearly more difficult to catch than 9 crime -- this is why we use 1/sqrt(severity) rather than just (1/severity). In a future work, we could try to fine tune this assumption more."
   ]
  },
  {
   "cell_type": "code",
   "execution_count": 422,
   "metadata": {
    "collapsed": false
   },
   "outputs": [
    {
     "data": {
      "image/png": "[encoded data removed]",
      "text/plain": [
       "<matplotlib.figure.Figure at 0x18042ebd0>"
      ]
     },
     "metadata": {},
     "output_type": "display_data"
    }
   ],
   "source": [
    "severities = [1,2,3,4,5,6,7,8,9,10]\n",
    "probabilitycapture = [float(1)/np.sqrt(i) for i in severities]\n",
    "probabilitycapture = [0] + probabilitycapture\n",
    "plt.plot(probabilitycapture)\n",
    "plt.axis([1, 10, 0, 1])\n",
    "plt.ylabel('Probability of Capture')\n",
    "plt.show()"
   ]
  },
  {
   "cell_type": "markdown",
   "metadata": {},
   "source": [
    "Ok, now the thing everyone has been waiting for. Lets figure out how much we are actually saving Boston!"
   ]
  },
  {
   "cell_type": "code",
   "execution_count": 423,
   "metadata": {
    "collapsed": false
   },
   "outputs": [],
   "source": [
    "def getSavings(predictions, costs, adjust=False):\n",
    "    savings = []\n",
    "    for i in xrange(len(predictions)):\n",
    "        prediction = predictions[i]\n",
    "        actual = costs[i][0]\n",
    "        key = costs[i][1]\n",
    "        if prediction == 1 and actual == 1:\n",
    "            for elt in crimeDictionary[key]:\n",
    "                cost = float(elt['COST'])\n",
    "                severity = float(elt['SCORE'])\n",
    "                if adjust:\n",
    "                    if not math.isnan(cost) and severity > 0:\n",
    "                        savings.append(cost * (float(1)/np.sqrt(severity)) - float(costOfPolice))\n",
    "                else:\n",
    "                    if not math.isnan(cost) and severity > 0:\n",
    "                        savings.append(cost - float(costOfPolice))\n",
    "        elif prediction == 1 and actual == 0:\n",
    "            savings.append(-costOfPolice)\n",
    "        elif prediction == 0 and actual == 1:\n",
    "            for elt in crimeDictionary[key]:\n",
    "                cost = float(elt['COST'])\n",
    "                severity = float(elt['SCORE'])\n",
    "                if adjust:\n",
    "                    if not math.isnan(cost):\n",
    "                        savings.append(-cost)\n",
    "        else:\n",
    "            savings.append(0)\n",
    "    return sum(savings)"
   ]
  },
  {
   "cell_type": "code",
   "execution_count": 424,
   "metadata": {
    "collapsed": false
   },
   "outputs": [
    {
     "data": {
      "text/plain": [
       "51046756.0"
      ]
     },
     "execution_count": 424,
     "metadata": {},
     "output_type": "execute_result"
    }
   ],
   "source": [
    "test_set_savings_unadjusted = getSavings(bestRFPreds, costsTest, adjust=False)\n",
    "test_set_savings_unadjusted"
   ]
  },
  {
   "cell_type": "code",
   "execution_count": 425,
   "metadata": {
    "collapsed": false
   },
   "outputs": [
    {
     "data": {
      "text/plain": [
       "14077637.903017813"
      ]
     },
     "execution_count": 425,
     "metadata": {},
     "output_type": "execute_result"
    }
   ],
   "source": [
    "test_set_savings_adjusted = getSavings(bestRFPreds, costsTest, adjust=True)\n",
    "test_set_savings_adjusted"
   ]
  },
  {
   "cell_type": "code",
   "execution_count": 426,
   "metadata": {
    "collapsed": true
   },
   "outputs": [],
   "source": [
    "XTrainProbs = optimalRF.predict_proba(X_train)\n",
    "XTrainPreds = thresholdPredictions(best_t_rf, XTrainProbs)"
   ]
  },
  {
   "cell_type": "code",
   "execution_count": 427,
   "metadata": {
    "collapsed": false
   },
   "outputs": [
    {
     "data": {
      "text/plain": [
       "209099899.0"
      ]
     },
     "execution_count": 427,
     "metadata": {},
     "output_type": "execute_result"
    }
   ],
   "source": [
    "training_set_savings_unadjusted = getSavings(XTrainPreds, costsTrain)\n",
    "training_set_savings_unadjusted"
   ]
  },
  {
   "cell_type": "code",
   "execution_count": 428,
   "metadata": {
    "collapsed": false
   },
   "outputs": [
    {
     "data": {
      "text/plain": [
       "58119638.675975308"
      ]
     },
     "execution_count": 428,
     "metadata": {},
     "output_type": "execute_result"
    }
   ],
   "source": [
    "training_set_savings_adjusted = getSavings(XTrainPreds, costsTrain, adjust=True)\n",
    "training_set_savings_adjusted"
   ]
  },
  {
   "cell_type": "markdown",
   "metadata": {},
   "source": [
    "So, in theory what would be our total savings if we had a classifier this accurate during the entire period spanning our dataset and we used the adjusted savings? \n",
    "\n",
    "We could either extrapolate the value by noting that our savings are a little more than $6 million over just the test set and the test set is roughly 1/5 of the total set, so our savings over the entire time period would be:"
   ]
  },
  {
   "cell_type": "code",
   "execution_count": 429,
   "metadata": {
    "collapsed": false
   },
   "outputs": [
    {
     "data": {
      "text/plain": [
       "67437057.861896679"
      ]
     },
     "execution_count": 429,
     "metadata": {},
     "output_type": "execute_result"
    }
   ],
   "source": [
    "test_set_savings_adjusted * float(1)/((float(len(X_test)))/float(len(X)))"
   ]
  },
  {
   "cell_type": "markdown",
   "metadata": {},
   "source": [
    "Alternatively, we could just use our predictions over the training set (which may be slightly biased so we can compare them to what we got above) and add them to our savings over the test set."
   ]
  },
  {
   "cell_type": "code",
   "execution_count": 430,
   "metadata": {
    "collapsed": false
   },
   "outputs": [
    {
     "data": {
      "text/plain": [
       "72197276.578993127"
      ]
     },
     "execution_count": 430,
     "metadata": {},
     "output_type": "execute_result"
    }
   ],
   "source": [
    "training_set_savings_adjusted + test_set_savings_adjusted"
   ]
  },
  {
   "cell_type": "markdown",
   "metadata": {},
   "source": [
    "Anyway you slice it, it seems that even our conservative adjusted figures are able to save Boston about __67 million dollars __ in the few years of data we look at."
   ]
  },
  {
   "cell_type": "markdown",
   "metadata": {},
   "source": [
    "Just for fun, lets take a look and see what the result would be if Police could effectively act with 100% success rate on every piece of intelligence our machine learning algorithm produces:"
   ]
  },
  {
   "cell_type": "code",
   "execution_count": 365,
   "metadata": {
    "collapsed": false
   },
   "outputs": [
    {
     "data": {
      "text/plain": [
       "259337347.0"
      ]
     },
     "execution_count": 365,
     "metadata": {},
     "output_type": "execute_result"
    }
   ],
   "source": [
    "training_set_savings_unadjusted + test_set_savings_unadjusted"
   ]
  },
  {
   "cell_type": "markdown",
   "metadata": {},
   "source": [
    "Not bad at all!!!"
   ]
  },
  {
   "cell_type": "markdown",
   "metadata": {},
   "source": [
    "# Conclusion"
   ]
  },
  {
   "cell_type": "markdown",
   "metadata": {},
   "source": [
    "In this part of the project, we try to predict whether or not a crime will occur in a given location at a given time based on a set of dynamic factors that we received in previous parts of the project. Ultimately, this type of data could be incredibly helpful for police in order to dynamically allocate their patrols to the most threat-prone areas based on the changing variables of the day.\n",
    "\n",
    "Based our analysis, we were able to find out that we could do 1) a good job predicting WHETHER or NOT a crime was going to occur but 2) not a great job on predicting how many crimes would occur. That is ok, however, as we are able to show that the classifier that does the best job at predicting the binary outcome (Random Forest optimized over our training data) does a fantastic job at saving the Boston Police Department money.\n",
    "\n",
    "There are a number of considerations that one should look into before \"blindly\" accepting our results -- it may be a an oversimplification to say that the cost of additional police is just the additional hourly wage paid to the officers, and it may also be an optimistic oversimplification to say that if cops know when/where a crime is going to occur, they can prevent it with the probabilities discussed above. However, none the less, we feel that the vast majority of our assumptions were grounded in intensive research and are fair to be considered over a vast range of potential scenarios. At the end of the day, the number we get of saving the Boston Police Department a potential of __ 67 million dollars __ over 3 and a half years is something we believe __ at least __ indicates that this is a direction the department could benefit from exploring further and hopefully invites future work into the space.  "
   ]
  }
 ],
 "metadata": {
  "kernelspec": {
   "display_name": "Python 2",
   "language": "python",
   "name": "python2"
  },
  "language_info": {
   "codemirror_mode": {
    "name": "ipython",
    "version": 2
   },
   "file_extension": ".py",
   "mimetype": "text/x-python",
   "name": "python",
   "nbconvert_exporter": "python",
   "pygments_lexer": "ipython2",
   "version": "2.7.10"
  }
 },
 "nbformat": 4,
 "nbformat_minor": 0
}
